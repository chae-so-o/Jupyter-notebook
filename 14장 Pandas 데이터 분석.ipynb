{
 "cells": [
  {
   "cell_type": "markdown",
   "id": "f27eada2",
   "metadata": {},
   "source": [
    "## Series 클래스"
   ]
  },
  {
   "cell_type": "code",
   "execution_count": 6,
   "id": "d2aa17c8",
   "metadata": {},
   "outputs": [
    {
     "name": "stdout",
     "output_type": "stream",
     "text": [
      "a    10\n",
      "b    20\n",
      "c    30\n",
      "d    40\n",
      "e    50\n",
      "dtype: int64\n",
      "30\n",
      "d    40\n",
      "a    10\n",
      "dtype: int64\n",
      "b    20\n",
      "c    30\n",
      "d    40\n",
      "dtype: int64\n"
     ]
    }
   ],
   "source": [
    "import pandas as pd\n",
    "\n",
    "obj = pd.Series([10,20,30,40,50], index = ['a', 'b', 'c', 'd', 'e'])\n",
    "print(obj)\n",
    "\n",
    "print(obj['c'])\n",
    "print(obj[['d', 'a']])\n",
    "print(obj[1:4])"
   ]
  },
  {
   "cell_type": "code",
   "execution_count": 8,
   "id": "7a9a7c02",
   "metadata": {},
   "outputs": [
    {
     "name": "stdout",
     "output_type": "stream",
     "text": [
      "0    1000\n",
      "1    2000\n",
      "2    3000\n",
      "3    4000\n",
      "4    5000\n",
      "dtype: int64\n",
      "2    30\n",
      "3    40\n",
      "4    50\n",
      "dtype: int64\n"
     ]
    }
   ],
   "source": [
    "import pandas as pd\n",
    "\n",
    "obj = pd.Series([10,20,30,40,50])\n",
    "\n",
    "print(obj * 100)\n",
    "print(obj[obj > 25])"
   ]
  },
  {
   "cell_type": "code",
   "execution_count": 9,
   "id": "9c2e3f91",
   "metadata": {},
   "outputs": [
    {
     "name": "stdout",
     "output_type": "stream",
     "text": [
      "서울: 9765623명\n",
      "부산: 3441453명\n",
      "대구: 2461769명\n"
     ]
    }
   ],
   "source": [
    "import pandas as pd\n",
    "\n",
    "pop = pd.Series([9765623, 3441453, 2461769], index = ['서울', '부산', '대구'])\n",
    "\n",
    "for i,v in pop.items():\n",
    "    print('%s: %d명' % (i,v))"
   ]
  },
  {
   "cell_type": "code",
   "execution_count": 15,
   "id": "5b965e58",
   "metadata": {},
   "outputs": [
    {
     "name": "stdout",
     "output_type": "stream",
     "text": [
      "서울    9765623\n",
      "부산    3441453\n",
      "대구    2461769\n",
      "dtype: int64\n",
      "광주시 인구: 149336명\n"
     ]
    }
   ],
   "source": [
    "import pandas as pd\n",
    "\n",
    "pop = pd.Series({'서울':9765623, '부산':3441453, '대구':2461769}, index = ['서울', '부산', '대구'])\n",
    "print(pop)\n",
    "\n",
    "pop['광주'] = 149336\n",
    "\n",
    "print('광주시 인구: %.0f명' % pop['광주'])"
   ]
  },
  {
   "cell_type": "markdown",
   "id": "c6ea431d",
   "metadata": {},
   "source": [
    "## DataFrame 클래스"
   ]
  },
  {
   "cell_type": "code",
   "execution_count": 2,
   "id": "d3cb81eb",
   "metadata": {},
   "outputs": [
    {
     "name": "stdout",
     "output_type": "stream",
     "text": [
      "    이름     아이디  비밀번호\n",
      "0  홍지수  jshong  1234\n",
      "1  안지영   jyahn  1234\n",
      "2  김성수   sukim  1234\n",
      "3  최예린  yrchoi  1234\n"
     ]
    }
   ],
   "source": [
    "import pandas as pd\n",
    "\n",
    "data = {'이름': ['홍지수', '안지영', '김성수', '최예린'], '아이디': ['jshong', 'jyahn', 'sukim', 'yrchoi'], '비밀번호': ['1234', '1234', '1234', '1234']}\n",
    "\n",
    "frame = pd.DataFrame(data)\n",
    "print(frame)"
   ]
  },
  {
   "cell_type": "code",
   "execution_count": 3,
   "id": "dc3e3e8d",
   "metadata": {},
   "outputs": [
    {
     "name": "stdout",
     "output_type": "stream",
     "text": [
      "     이름           전화번호  나이   주소\n",
      "01  김영준  010-3535-4576  20  NaN\n",
      "02  한지원  010-129507899  23  NaN\n"
     ]
    }
   ],
   "source": [
    "import pandas as pd\n",
    "\n",
    "member = {'이름': ['김영준', '한지원'], '나이': [20, 23], '전화번호': ['010-3535-4576', '010-129507899']}\n",
    "\n",
    "frame = pd.DataFrame(member, columns = ['이름', '전화번호', '나이', '주소'], index = ['01', '02'])\n",
    "print(frame)"
   ]
  },
  {
   "cell_type": "code",
   "execution_count": 6,
   "id": "8fbfcc1a",
   "metadata": {},
   "outputs": [
    {
     "name": "stdout",
     "output_type": "stream",
     "text": [
      "    학교명  학급수  학생수  교사수\n",
      "01  가나고   25  620   80\n",
      "02  다라고   23  600   95\n",
      "03  마바고   15  550   70\n",
      "04  사아고   19  580   90\n",
      "05  자차고   10  400   65\n",
      "600\n",
      "학교명    사아고\n",
      "학급수     19\n",
      "교사수     90\n",
      "Name: 04, dtype: object\n"
     ]
    }
   ],
   "source": [
    "import pandas as pd\n",
    "\n",
    "data = {'학교명': ['가나고', '다라고', '마바고', '사아고', '자차고'], '학급수': [25,23,15,19,10], '학생수': [620,600,550,580,400],\n",
    "       '교사수': [80,95,70,90,65]}\n",
    "\n",
    "frame = pd.DataFrame(data, index = ['01', '02', '03', '04', '05'])\n",
    "print(frame)\n",
    "\n",
    "print(frame.loc['02', '학생수'])\n",
    "print(frame.loc['04', ['학교명', '학급수', '교사수']])"
   ]
  },
  {
   "cell_type": "code",
   "execution_count": 10,
   "id": "7a2e3084",
   "metadata": {},
   "outputs": [
    {
     "name": "stdout",
     "output_type": "stream",
     "text": [
      "    아이디 구매상품     가격  개수   구매일\n",
      "0   kim  상품A  15000   3  0303\n",
      "1  song  상품B  23000   5  0810\n",
      "2   han  상품C  33000   1  0120\n",
      "3  choi  상품D  50000  10  0601\n",
      "han\n",
      "아이디     choi\n",
      "구매상품     상품D\n",
      "Name: 3, dtype: object\n",
      "    아이디   구매일\n",
      "0   kim  0303\n",
      "1  song  0810\n",
      "2   han  0120\n",
      "3  choi  0601\n"
     ]
    }
   ],
   "source": [
    "import pandas as pd\n",
    "\n",
    "data = {'아이디': ['kim', 'song', 'han', 'choi'], '구매상품': ['상품A', '상품B', '상품C', '상품D'], '가격': [15000,23000,33000,50000],\n",
    "       '개수': [3,5,1,10], '구매일': ['0303', '0810', '0120', '0601']}\n",
    "\n",
    "frame = pd.DataFrame(data)\n",
    "print(frame)\n",
    "\n",
    "print(frame.iloc[2,0])\n",
    "print(frame.iloc[3,:2])\n",
    "print(frame.iloc[:, [0,4]])"
   ]
  },
  {
   "cell_type": "markdown",
   "id": "abfd58d6",
   "metadata": {},
   "source": [
    "loc는 인덱스명, iloc는 인덱스 번호 사용"
   ]
  },
  {
   "cell_type": "code",
   "execution_count": 15,
   "id": "12484fa3",
   "metadata": {},
   "outputs": [
    {
     "name": "stdout",
     "output_type": "stream",
     "text": [
      "    이름  국어  영어  수학\n",
      "0  김지영  95  90  85\n",
      "1  안지수  97  86  88\n",
      "2  최성수  80  93  89\n",
      "3  황예린  94  85  88\n",
      "4  김소정  87  93  99\n",
      "   국어  영어  수학\n",
      "0  95  90  85\n",
      "1  97  86  88\n",
      "2  80  93  89\n",
      "3  94  85  88\n",
      "4  87  93  99\n",
      "국어    453\n",
      "영어    447\n",
      "수학    449\n",
      "dtype: int64\n"
     ]
    }
   ],
   "source": [
    "import pandas as pd\n",
    "\n",
    "scores = {'이름': ['김지영', '안지수', '최성수', '황예린', '김소정'], '국어': [95,97,80,94,87], '영어': [90,86,93,85,93], '수학': [85,88,89,88,99]}\n",
    "\n",
    "frame = pd.DataFrame(scores)\n",
    "print(frame)\n",
    "\n",
    "frame2 = frame.iloc[:, [1,2,3]]\n",
    "print(frame2)\n",
    "\n",
    "total = frame2.sum(axis=1) ## 행 방향으로 합계 \n",
    "print(total)"
   ]
  },
  {
   "cell_type": "code",
   "execution_count": 22,
   "id": "3b31a431",
   "metadata": {},
   "outputs": [
    {
     "name": "stdout",
     "output_type": "stream",
     "text": [
      "    이름  국어  영어  수학\n",
      "0  김지영  95  90  85\n",
      "1  안지수  97  86  88\n",
      "2  최성수  80  93  89\n",
      "3  황예린  94  85  88\n",
      "4  김소정  87  93  99\n",
      "--------------------------------------------------\n",
      "이름  합계  평균\n",
      "--------------------------------------------------\n",
      "김지영 270 90.00\n",
      "안지수 271 90.33\n",
      "최성수 262 87.33\n",
      "황예린 267 89.00\n",
      "김소정 279 93.00\n",
      "--------------------------------------------------\n"
     ]
    }
   ],
   "source": [
    "import pandas as pd\n",
    "\n",
    "scores = {'이름': ['김지영', '안지수', '최성수', '황예린', '김소정'], '국어': [95,97,80,94,87], '영어': [90,86,93,85,93], '수학': [85,88,89,88,99]}\n",
    "\n",
    "frame = pd.DataFrame(scores)\n",
    "print(frame)\n",
    "frame2 = frame.iloc[:, [1,2,3]]\n",
    "\n",
    "total = frame2.sum(axis=1)\n",
    "avg = frame2.mean(axis=1)\n",
    "\n",
    "print('-' * 50)\n",
    "print('이름  합계  평균')\n",
    "print('-' * 50)\n",
    "\n",
    "for i in range(5):\n",
    "    print('%s %d %.2f' % (frame.iloc[i,0], total.iloc[i], avg.iloc[i]))\n",
    "    \n",
    "print('-' * 50)    "
   ]
  },
  {
   "cell_type": "markdown",
   "id": "2593516c",
   "metadata": {},
   "source": [
    "## 국내 인구 통계 데이터 분석"
   ]
  },
  {
   "cell_type": "code",
   "execution_count": 22,
   "id": "f85f90ee",
   "metadata": {},
   "outputs": [
    {
     "data": {
      "text/html": [
       "<div>\n",
       "<style scoped>\n",
       "    .dataframe tbody tr th:only-of-type {\n",
       "        vertical-align: middle;\n",
       "    }\n",
       "\n",
       "    .dataframe tbody tr th {\n",
       "        vertical-align: top;\n",
       "    }\n",
       "\n",
       "    .dataframe thead th {\n",
       "        text-align: right;\n",
       "    }\n",
       "</style>\n",
       "<table border=\"1\" class=\"dataframe\">\n",
       "  <thead>\n",
       "    <tr style=\"text-align: right;\">\n",
       "      <th></th>\n",
       "      <th>지역</th>\n",
       "      <th>총인구수</th>\n",
       "      <th>세대수</th>\n",
       "      <th>세대당_인구</th>\n",
       "      <th>남자_인구수</th>\n",
       "      <th>여자_인구수</th>\n",
       "      <th>남여_비율</th>\n",
       "    </tr>\n",
       "  </thead>\n",
       "  <tbody>\n",
       "    <tr>\n",
       "      <th>0</th>\n",
       "      <td>서울특별시</td>\n",
       "      <td>9736962</td>\n",
       "      <td>4345877</td>\n",
       "      <td>2.24</td>\n",
       "      <td>4745133</td>\n",
       "      <td>4991829</td>\n",
       "      <td>0.95</td>\n",
       "    </tr>\n",
       "    <tr>\n",
       "      <th>1</th>\n",
       "      <td>부산광역시</td>\n",
       "      <td>3410925</td>\n",
       "      <td>1502333</td>\n",
       "      <td>2.27</td>\n",
       "      <td>1673266</td>\n",
       "      <td>1737659</td>\n",
       "      <td>0.96</td>\n",
       "    </tr>\n",
       "    <tr>\n",
       "      <th>2</th>\n",
       "      <td>대구광역시</td>\n",
       "      <td>2432883</td>\n",
       "      <td>1033349</td>\n",
       "      <td>2.35</td>\n",
       "      <td>1202364</td>\n",
       "      <td>1230519</td>\n",
       "      <td>0.98</td>\n",
       "    </tr>\n",
       "    <tr>\n",
       "      <th>3</th>\n",
       "      <td>인천광역시</td>\n",
       "      <td>2954955</td>\n",
       "      <td>1242107</td>\n",
       "      <td>2.38</td>\n",
       "      <td>1481133</td>\n",
       "      <td>1473822</td>\n",
       "      <td>1.00</td>\n",
       "    </tr>\n",
       "    <tr>\n",
       "      <th>4</th>\n",
       "      <td>광주광역시</td>\n",
       "      <td>1456121</td>\n",
       "      <td>618503</td>\n",
       "      <td>2.35</td>\n",
       "      <td>720686</td>\n",
       "      <td>735435</td>\n",
       "      <td>0.98</td>\n",
       "    </tr>\n",
       "  </tbody>\n",
       "</table>\n",
       "</div>"
      ],
      "text/plain": [
       "      지역     총인구수      세대수  세대당_인구   남자_인구수   여자_인구수  남여_비율\n",
       "0  서울특별시  9736962  4345877    2.24  4745133  4991829   0.95\n",
       "1  부산광역시  3410925  1502333    2.27  1673266  1737659   0.96\n",
       "2  대구광역시  2432883  1033349    2.35  1202364  1230519   0.98\n",
       "3  인천광역시  2954955  1242107    2.38  1481133  1473822   1.00\n",
       "4  광주광역시  1456121   618503    2.35   720686   735435   0.98"
      ]
     },
     "execution_count": 22,
     "metadata": {},
     "output_type": "execute_result"
    }
   ],
   "source": [
    "import pandas as pd\n",
    "\n",
    "data = pd.read_csv('C:/Users/82105/Downloads/source/14/population_2020.csv')\n",
    "data = data.rename(columns = {'행정구역': '지역', '2020년02월_총인구수': '총인구수', '2020년02월_세대수': '세대수', \n",
    "                              '2020년02월_세대당 인구' : '세대당_인구', '2020년02월_남자 인구수' : '남자_인구수', \n",
    "                              '2020년02월_여자 인구수' : '여자_인구수', '2020년02월_남여 비율' : '남여_비율'})\n",
    "\n",
    "data['지역'] = data['지역'].str.replace(r\"\\s*\\(.*\\)\", \"\", regex=True) ## 괄호 및 내용 제거\n",
    "\n",
    "data['총인구수'] = data['총인구수'].str.replace(',', '').astype(int)\n",
    "data['세대수'] = data['세대수'].str.replace(',', '').astype(int)\n",
    "data['세대당_인구'] = data['세대당_인구'].astype(float)\n",
    "data['남자_인구수'] = data['남자_인구수'].str.replace(',', '').astype(int)\n",
    "data['여자_인구수'] = data['여자_인구수'].str.replace(',', '').astype(int)\n",
    "data['남여_비율'] = data['남여_비율'].astype(float)\n",
    "\n",
    "data.head()"
   ]
  },
  {
   "cell_type": "code",
   "execution_count": 23,
   "id": "b3db89e6",
   "metadata": {},
   "outputs": [
    {
     "name": "stdout",
     "output_type": "stream",
     "text": [
      "         지역      총인구수      세대수  세대당_인구   남자_인구수   여자_인구수  남여_비율\n",
      "8       경기도  13265377  5497087    2.41  6672706  6592671   1.01\n",
      "0     서울특별시   9736962  4345877    2.24  4745133  4991829   0.95\n",
      "1     부산광역시   3410925  1502333    2.27  1673266  1737659   0.96\n",
      "15     경상남도   3358828  1455655    2.31  1690600  1668228   1.01\n",
      "3     인천광역시   2954955  1242107    2.38  1481133  1473822   1.00\n",
      "14     경상북도   2658956  1229265    2.16  1338907  1320049   1.01\n",
      "2     대구광역시   2432883  1033349    2.35  1202364  1230519   0.98\n",
      "11     충청남도   2120995   961890    2.21  1081153  1039842   1.04\n",
      "13     전라남도   1861894   873871    2.13   934900   926994   1.01\n",
      "12     전라북도   1815112   818452    2.22   902365   912747   0.99\n",
      "10     충청북도   1598599   723931    2.21   809805   788794   1.03\n",
      "9       강원도   1539521   721003    2.14   774358   765163   1.01\n",
      "5     대전광역시   1473125   637726    2.31   735791   737334   1.00\n",
      "4     광주광역시   1456121   618503    2.35   720686   735435   0.98\n",
      "6     울산광역시   1145710   469551    2.44   588626   557084   1.06\n",
      "16  제주특별자치도    670876   293932    2.28   337295   333581   1.01\n",
      "7   세종특별자치시    343788   136629    2.52   171403   172385   0.99\n",
      "         지역      총인구수      세대수  세대당_인구   남자_인구수   여자_인구수  남여_비율\n",
      "0       경기도  13265377  5497087    2.41  6672706  6592671   1.01\n",
      "1     서울특별시   9736962  4345877    2.24  4745133  4991829   0.95\n",
      "2     부산광역시   3410925  1502333    2.27  1673266  1737659   0.96\n",
      "3      경상남도   3358828  1455655    2.31  1690600  1668228   1.01\n",
      "4     인천광역시   2954955  1242107    2.38  1481133  1473822   1.00\n",
      "5      경상북도   2658956  1229265    2.16  1338907  1320049   1.01\n",
      "6     대구광역시   2432883  1033349    2.35  1202364  1230519   0.98\n",
      "7      충청남도   2120995   961890    2.21  1081153  1039842   1.04\n",
      "8      전라남도   1861894   873871    2.13   934900   926994   1.01\n",
      "9      전라북도   1815112   818452    2.22   902365   912747   0.99\n",
      "10     충청북도   1598599   723931    2.21   809805   788794   1.03\n",
      "11      강원도   1539521   721003    2.14   774358   765163   1.01\n",
      "12    대전광역시   1473125   637726    2.31   735791   737334   1.00\n",
      "13    광주광역시   1456121   618503    2.35   720686   735435   0.98\n",
      "14    울산광역시   1145710   469551    2.44   588626   557084   1.06\n",
      "15  제주특별자치도    670876   293932    2.28   337295   333581   1.01\n",
      "16  세종특별자치시    343788   136629    2.52   171403   172385   0.99\n"
     ]
    }
   ],
   "source": [
    "frame = pd.DataFrame(data)\n",
    "\n",
    "rank = frame.sort_values(by = ['세대수'], ascending = False) ## 내림차순 정렬\n",
    "print(rank)\n",
    "\n",
    "rank = rank.reset_index(drop = True) ## 행 인덱스 번호를 0부터 시작\n",
    "print(rank)"
   ]
  },
  {
   "cell_type": "code",
   "execution_count": 26,
   "id": "36973f4d",
   "metadata": {},
   "outputs": [
    {
     "name": "stdout",
     "output_type": "stream",
     "text": [
      "        총인구수      세대수   남자_인구수   여자_인구수\n",
      "0    9736962  4345877  4745133  4991829\n",
      "1    3410925  1502333  1673266  1737659\n",
      "2    2432883  1033349  1202364  1230519\n",
      "3    2954955  1242107  1481133  1473822\n",
      "4    1456121   618503   720686   735435\n",
      "5    1473125   637726   735791   737334\n",
      "6    1145710   469551   588626   557084\n",
      "7     343788   136629   171403   172385\n",
      "8   13265377  5497087  6672706  6592671\n",
      "9    1539521   721003   774358   765163\n",
      "10   1598599   723931   809805   788794\n",
      "11   2120995   961890  1081153  1039842\n",
      "12   1815112   818452   902365   912747\n",
      "13   1861894   873871   934900   926994\n",
      "14   2658956  1229265  1338907  1320049\n",
      "15   3358828  1455655  1690600  1668228\n",
      "16    670876   293932   337295   333581\n",
      "총인구수      51844627\n",
      "세대수       22561161\n",
      "남자_인구수    25860491\n",
      "여자_인구수    25984136\n",
      "dtype: int64\n",
      "--------------------------------------------------\n",
      "국내 전체 인구 통계\n",
      "--------------------------------------------------\n",
      "- 총 인구수 : 51844627명\n",
      "- 총 세대수 : 22561161명\n",
      "- 총 남자 인구수 : 25860491명\n",
      "- 총 여자 인구수 : 25984136명\n",
      "--------------------------------------------------\n"
     ]
    }
   ],
   "source": [
    "frame = pd.DataFrame(data)\n",
    "frame2 = frame.iloc[:, [1,2,4,5]]\n",
    "print(frame2)\n",
    "\n",
    "sum = frame2.sum(axis = 0)\n",
    "print(sum)\n",
    "\n",
    "print('-' * 50)\n",
    "print('국내 전체 인구 통계')\n",
    "print('-' * 50)\n",
    "\n",
    "print('- 총 인구수 : %d명' % sum.iloc[0])\n",
    "print('- 총 세대수 : %d명' % sum.iloc[1])\n",
    "print('- 총 남자 인구수 : %d명' % sum.iloc[2])\n",
    "print('- 총 여자 인구수 : %d명' % sum.iloc[3])\n",
    "print('-' * 50)"
   ]
  },
  {
   "cell_type": "code",
   "execution_count": 37,
   "id": "f2b11aa3",
   "metadata": {},
   "outputs": [
    {
     "data": {
      "image/png": "[encoded data removed]",
      "text/plain": [
       "<Figure size 640x480 with 1 Axes>"
      ]
     },
     "metadata": {},
     "output_type": "display_data"
    }
   ],
   "source": [
    "import pandas as pd \n",
    "from matplotlib import rc\n",
    "rc('font', family = 'Malgun Gothic')\n",
    "\n",
    "frame = pd.DataFrame(data)\n",
    "index = ['서울', '부산', '대구', '인천', '광주', '부산']\n",
    "\n",
    "x1 = frame.iloc[:6,1]\n",
    "x1 = x1.values.tolist()\n",
    "\n",
    "x2 = frame.iloc[:6,2]\n",
    "x2 = x2.values.tolist()\n",
    "\n",
    "df = pd.DataFrame({'총인구수': x1, '총세대수': x2}, index = index)\n",
    "ax = df.plot.bar(rot=0)  ## rot=0 사용하여 x축 인덱스 레이블 글자를 가로로 표시"
   ]
  },
  {
   "cell_type": "code",
   "execution_count": null,
   "id": "d4953810",
   "metadata": {},
   "outputs": [],
   "source": []
  }
 ],
 "metadata": {
  "kernelspec": {
   "display_name": "Python 3 (ipykernel)",
   "language": "python",
   "name": "python3"
  },
  "language_info": {
   "codemirror_mode": {
    "name": "ipython",
    "version": 3
   },
   "file_extension": ".py",
   "mimetype": "text/x-python",
   "name": "python",
   "nbconvert_exporter": "python",
   "pygments_lexer": "ipython3",
   "version": "3.9.13"
  }
 },
 "nbformat": 4,
 "nbformat_minor": 5
}
